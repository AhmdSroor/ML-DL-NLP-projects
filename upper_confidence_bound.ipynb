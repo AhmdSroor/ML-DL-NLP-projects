{
 "cells": [
  {
   "cell_type": "markdown",
   "metadata": {
    "colab_type": "text",
    "id": "QJdrJJQUv3-k"
   },
   "source": [
    "# Upper Confidence Bound (UCB)"
   ]
  },
  {
   "cell_type": "markdown",
   "metadata": {
    "colab_type": "text",
    "id": "2XCjepjJwEv-"
   },
   "source": [
    "## Importing the libraries"
   ]
  },
  {
   "cell_type": "code",
   "execution_count": 1,
   "metadata": {
    "colab": {},
    "colab_type": "code",
    "id": "l_mBkG3YwNTt"
   },
   "outputs": [],
   "source": [
    "import numpy as np\n",
    "import matplotlib.pyplot as plt\n",
    "import pandas as pd"
   ]
  },
  {
   "cell_type": "markdown",
   "metadata": {
    "colab_type": "text",
    "id": "npqlXjaNwYTv"
   },
   "source": [
    "## Importing the dataset"
   ]
  },
  {
   "cell_type": "code",
   "execution_count": 2,
   "metadata": {
    "colab": {},
    "colab_type": "code",
    "id": "HMJfUVLVwcFc"
   },
   "outputs": [],
   "source": [
    "dataset = pd.read_csv('Ads_CTR_Optimisation.csv')"
   ]
  },
  {
   "cell_type": "markdown",
   "metadata": {
    "colab_type": "text",
    "id": "PaSbots_wfoB"
   },
   "source": [
    "## Implementing UCB"
   ]
  },
  {
   "cell_type": "code",
   "execution_count": 6,
   "metadata": {
    "colab": {},
    "colab_type": "code",
    "id": "V1K7jgDFwkRd"
   },
   "outputs": [],
   "source": [
    "import math\n",
    "N = 500\n",
    "d = 10\n",
    "ads_selected = []\n",
    "numbers_of_selections = [0] * d\n",
    "sums_of_rewards = [0] * d\n",
    "total_reward = 0\n",
    "for n in range(0, N):\n",
    "  ad = 0\n",
    "  max_upper_bound = 0\n",
    "  for i in range(0, d):\n",
    "    if (numbers_of_selections[i] > 0):\n",
    "      average_reward = sums_of_rewards[i] / numbers_of_selections[i]\n",
    "      delta_i = math.sqrt(3/2 * math.log(n + 1) / numbers_of_selections[i])\n",
    "      upper_bound = average_reward + delta_i\n",
    "    else:\n",
    "      upper_bound = 1e400\n",
    "    if (upper_bound > max_upper_bound):\n",
    "      max_upper_bound = upper_bound\n",
    "      ad = i\n",
    "  ads_selected.append(ad)\n",
    "  numbers_of_selections[ad] = numbers_of_selections[ad] + 1\n",
    "  reward = dataset.values[n, ad]\n",
    "  sums_of_rewards[ad] = sums_of_rewards[ad] + reward\n",
    "  total_reward = total_reward + reward"
   ]
  },
  {
   "cell_type": "markdown",
   "metadata": {
    "colab_type": "text",
    "id": "AXftWcjDwsYj"
   },
   "source": [
    "## Visualising the results"
   ]
  },
  {
   "cell_type": "code",
   "execution_count": 7,
   "metadata": {
    "colab": {
     "base_uri": "https://localhost:8080/",
     "height": 295
    },
    "colab_type": "code",
    "executionInfo": {
     "elapsed": 1854,
     "status": "ok",
     "timestamp": 1589542170224,
     "user": {
      "displayName": "Hadelin de Ponteves",
      "photoUrl": "https://lh3.googleusercontent.com/a-/AOh14GhEuXdT7eQweUmRPW8_laJuPggSK6hfvpl5a6WBaA=s64",
      "userId": "15047218817161520419"
     },
     "user_tz": -240
    },
    "id": "eVyD_EDXwtkK",
    "outputId": "45843b84-4a0f-453f-be68-07cd203a72ae"
   },
   "outputs": [
    {
     "data": {
      "image/png": "[encoded data removed]",
      "text/plain": [
       "<Figure size 432x288 with 1 Axes>"
      ]
     },
     "metadata": {
      "needs_background": "light"
     },
     "output_type": "display_data"
    }
   ],
   "source": [
    "plt.hist(ads_selected)\n",
    "plt.title('Histogram of ads selections')\n",
    "plt.xlabel('Ads')\n",
    "plt.ylabel('Number of times each ad was selected')\n",
    "plt.show()"
   ]
  },
  {
   "cell_type": "code",
   "execution_count": null,
   "metadata": {},
   "outputs": [],
   "source": []
  }
 ],
 "metadata": {
  "colab": {
   "authorship_tag": "ABX9TyM070CpUDOaHkkIWHwMqelP",
   "collapsed_sections": [],
   "name": "upper_confidence_bound.ipynb",
   "provenance": []
  },
  "kernelspec": {
   "display_name": "Python 3",
   "language": "python",
   "name": "python3"
  },
  "language_info": {
   "codemirror_mode": {
    "name": "ipython",
    "version": 3
   },
   "file_extension": ".py",
   "mimetype": "text/x-python",
   "name": "python",
   "nbconvert_exporter": "python",
   "pygments_lexer": "ipython3",
   "version": "3.7.6"
  }
 },
 "nbformat": 4,
 "nbformat_minor": 1
}
